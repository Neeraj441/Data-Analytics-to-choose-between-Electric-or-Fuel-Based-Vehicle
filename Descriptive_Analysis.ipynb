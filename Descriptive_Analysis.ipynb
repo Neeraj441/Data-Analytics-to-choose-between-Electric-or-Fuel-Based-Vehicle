{
 "cells": [
  {
   "cell_type": "code",
   "execution_count": 1,
   "id": "16e232e8-9cad-4310-ab68-90e91af239ba",
   "metadata": {},
   "outputs": [],
   "source": [
    "import os\n",
    "import numpy as np\n",
    "import pandas as pd\n",
    "import matplotlib.pyplot as plt\n",
    "import seaborn as sns\n",
    "from scipy import stats"
   ]
  },
  {
   "cell_type": "code",
   "execution_count": 4,
   "id": "578c10a7-4b11-4cc6-9c11-14742dbaafae",
   "metadata": {},
   "outputs": [
    {
     "data": {
      "text/html": [
       "<div>\n",
       "<style scoped>\n",
       "    .dataframe tbody tr th:only-of-type {\n",
       "        vertical-align: middle;\n",
       "    }\n",
       "\n",
       "    .dataframe tbody tr th {\n",
       "        vertical-align: top;\n",
       "    }\n",
       "\n",
       "    .dataframe thead th {\n",
       "        text-align: right;\n",
       "    }\n",
       "</style>\n",
       "<table border=\"1\" class=\"dataframe\">\n",
       "  <thead>\n",
       "    <tr style=\"text-align: right;\">\n",
       "      <th></th>\n",
       "      <th>Average_Price_in_USD</th>\n",
       "    </tr>\n",
       "  </thead>\n",
       "  <tbody>\n",
       "    <tr>\n",
       "      <th>0</th>\n",
       "      <td>0.083667</td>\n",
       "    </tr>\n",
       "    <tr>\n",
       "      <th>1</th>\n",
       "      <td>0.086667</td>\n",
       "    </tr>\n",
       "    <tr>\n",
       "      <th>2</th>\n",
       "      <td>0.088083</td>\n",
       "    </tr>\n",
       "    <tr>\n",
       "      <th>3</th>\n",
       "      <td>0.091583</td>\n",
       "    </tr>\n",
       "    <tr>\n",
       "      <th>4</th>\n",
       "      <td>0.092000</td>\n",
       "    </tr>\n",
       "    <tr>\n",
       "      <th>5</th>\n",
       "      <td>0.093583</td>\n",
       "    </tr>\n",
       "    <tr>\n",
       "      <th>6</th>\n",
       "      <td>0.094167</td>\n",
       "    </tr>\n",
       "    <tr>\n",
       "      <th>7</th>\n",
       "      <td>0.094333</td>\n",
       "    </tr>\n",
       "    <tr>\n",
       "      <th>8</th>\n",
       "      <td>0.086833</td>\n",
       "    </tr>\n",
       "    <tr>\n",
       "      <th>9</th>\n",
       "      <td>0.086333</td>\n",
       "    </tr>\n",
       "    <tr>\n",
       "      <th>10</th>\n",
       "      <td>0.087250</td>\n",
       "    </tr>\n",
       "    <tr>\n",
       "      <th>11</th>\n",
       "      <td>0.092333</td>\n",
       "    </tr>\n",
       "    <tr>\n",
       "      <th>12</th>\n",
       "      <td>0.091083</td>\n",
       "    </tr>\n",
       "    <tr>\n",
       "      <th>13</th>\n",
       "      <td>0.092833</td>\n",
       "    </tr>\n",
       "    <tr>\n",
       "      <th>14</th>\n",
       "      <td>0.094333</td>\n",
       "    </tr>\n",
       "    <tr>\n",
       "      <th>15</th>\n",
       "      <td>0.100000</td>\n",
       "    </tr>\n",
       "    <tr>\n",
       "      <th>16</th>\n",
       "      <td>0.112333</td>\n",
       "    </tr>\n",
       "    <tr>\n",
       "      <th>17</th>\n",
       "      <td>0.116667</td>\n",
       "    </tr>\n",
       "    <tr>\n",
       "      <th>18</th>\n",
       "      <td>0.123333</td>\n",
       "    </tr>\n",
       "    <tr>\n",
       "      <th>19</th>\n",
       "      <td>0.127167</td>\n",
       "    </tr>\n",
       "    <tr>\n",
       "      <th>20</th>\n",
       "      <td>0.127667</td>\n",
       "    </tr>\n",
       "    <tr>\n",
       "      <th>21</th>\n",
       "      <td>0.129750</td>\n",
       "    </tr>\n",
       "    <tr>\n",
       "      <th>22</th>\n",
       "      <td>0.129583</td>\n",
       "    </tr>\n",
       "    <tr>\n",
       "      <th>23</th>\n",
       "      <td>0.132167</td>\n",
       "    </tr>\n",
       "    <tr>\n",
       "      <th>24</th>\n",
       "      <td>0.137083</td>\n",
       "    </tr>\n",
       "    <tr>\n",
       "      <th>25</th>\n",
       "      <td>0.138083</td>\n",
       "    </tr>\n",
       "    <tr>\n",
       "      <th>26</th>\n",
       "      <td>0.135167</td>\n",
       "    </tr>\n",
       "    <tr>\n",
       "      <th>27</th>\n",
       "      <td>0.137750</td>\n",
       "    </tr>\n",
       "    <tr>\n",
       "      <th>28</th>\n",
       "      <td>0.136250</td>\n",
       "    </tr>\n",
       "    <tr>\n",
       "      <th>29</th>\n",
       "      <td>0.136333</td>\n",
       "    </tr>\n",
       "    <tr>\n",
       "      <th>30</th>\n",
       "      <td>0.135333</td>\n",
       "    </tr>\n",
       "  </tbody>\n",
       "</table>\n",
       "</div>"
      ],
      "text/plain": [
       "    Average_Price_in_USD\n",
       "0               0.083667\n",
       "1               0.086667\n",
       "2               0.088083\n",
       "3               0.091583\n",
       "4               0.092000\n",
       "5               0.093583\n",
       "6               0.094167\n",
       "7               0.094333\n",
       "8               0.086833\n",
       "9               0.086333\n",
       "10              0.087250\n",
       "11              0.092333\n",
       "12              0.091083\n",
       "13              0.092833\n",
       "14              0.094333\n",
       "15              0.100000\n",
       "16              0.112333\n",
       "17              0.116667\n",
       "18              0.123333\n",
       "19              0.127167\n",
       "20              0.127667\n",
       "21              0.129750\n",
       "22              0.129583\n",
       "23              0.132167\n",
       "24              0.137083\n",
       "25              0.138083\n",
       "26              0.135167\n",
       "27              0.137750\n",
       "28              0.136250\n",
       "29              0.136333\n",
       "30              0.135333"
      ]
     },
     "execution_count": 4,
     "metadata": {},
     "output_type": "execute_result"
    }
   ],
   "source": [
    "df = pd.read_csv('Price_Data.csv')\n",
    "df"
   ]
  },
  {
   "cell_type": "code",
   "execution_count": 3,
   "id": "e66b0b01-d6c8-4444-a8e7-089999993fb6",
   "metadata": {},
   "outputs": [
    {
     "data": {
      "text/html": [
       "<div>\n",
       "<style scoped>\n",
       "    .dataframe tbody tr th:only-of-type {\n",
       "        vertical-align: middle;\n",
       "    }\n",
       "\n",
       "    .dataframe tbody tr th {\n",
       "        vertical-align: top;\n",
       "    }\n",
       "\n",
       "    .dataframe thead th {\n",
       "        text-align: right;\n",
       "    }\n",
       "</style>\n",
       "<table border=\"1\" class=\"dataframe\">\n",
       "  <thead>\n",
       "    <tr style=\"text-align: right;\">\n",
       "      <th></th>\n",
       "      <th>Average_Price_in_USD</th>\n",
       "    </tr>\n",
       "  </thead>\n",
       "  <tbody>\n",
       "    <tr>\n",
       "      <th>count</th>\n",
       "      <td>31.000000</td>\n",
       "    </tr>\n",
       "    <tr>\n",
       "      <th>mean</th>\n",
       "      <td>0.109992</td>\n",
       "    </tr>\n",
       "    <tr>\n",
       "      <th>std</th>\n",
       "      <td>0.020913</td>\n",
       "    </tr>\n",
       "    <tr>\n",
       "      <th>min</th>\n",
       "      <td>0.083667</td>\n",
       "    </tr>\n",
       "    <tr>\n",
       "      <th>25%</th>\n",
       "      <td>0.091792</td>\n",
       "    </tr>\n",
       "    <tr>\n",
       "      <th>50%</th>\n",
       "      <td>0.100000</td>\n",
       "    </tr>\n",
       "    <tr>\n",
       "      <th>75%</th>\n",
       "      <td>0.130958</td>\n",
       "    </tr>\n",
       "    <tr>\n",
       "      <th>max</th>\n",
       "      <td>0.138083</td>\n",
       "    </tr>\n",
       "  </tbody>\n",
       "</table>\n",
       "</div>"
      ],
      "text/plain": [
       "       Average_Price_in_USD\n",
       "count             31.000000\n",
       "mean               0.109992\n",
       "std                0.020913\n",
       "min                0.083667\n",
       "25%                0.091792\n",
       "50%                0.100000\n",
       "75%                0.130958\n",
       "max                0.138083"
      ]
     },
     "execution_count": 3,
     "metadata": {},
     "output_type": "execute_result"
    }
   ],
   "source": [
    "#Mean and Standard Deviation after removing outliers\n",
    "df.describe()"
   ]
  },
  {
   "cell_type": "code",
   "execution_count": 38,
   "id": "da91eb4c-8db3-401d-a33f-9dee3a6d5742",
   "metadata": {},
   "outputs": [
    {
     "data": {
      "text/plain": [
       "0.0004373598880514935"
      ]
     },
     "execution_count": 38,
     "metadata": {},
     "output_type": "execute_result"
    }
   ],
   "source": [
    "#Finding Variance\n",
    "import statistics\n",
    "statistics.variance([0.083666667,0.086666667,0.088083333,0.091583333,0.092,0.093583333,0.094166667,0.094333333,0.086833333,0.086333333,0.08725,0.092333333,0.091083333,0.092833333,0.094333333,0.1,0.112333333,0.116666667,0.123333333,0.127166667,0.127666667,0.12975,0.129583333,0.132166667,0.137083333,0.138083333,0.135166667,0.13775,0.13625,0.136333333,0.135333333])"
   ]
  },
  {
   "cell_type": "code",
   "execution_count": 39,
   "id": "5c090894-302b-40be-95e5-ea8bb5451e24",
   "metadata": {},
   "outputs": [
    {
     "data": {
      "text/plain": [
       "array([0.13516667])"
      ]
     },
     "execution_count": 39,
     "metadata": {},
     "output_type": "execute_result"
    }
   ],
   "source": [
    "#Percentile Calculations\n",
    "L2 = df[['Average_Price_in_USD']]\n",
    "np.percentile(L2 , 80, axis = 0)"
   ]
  },
  {
   "cell_type": "code",
   "execution_count": 40,
   "id": "0e9402ac-5af6-462c-835b-83cf802398e9",
   "metadata": {},
   "outputs": [
    {
     "data": {
      "image/png": "[encoded data removed]",
      "text/plain": [
       "<Figure size 432x288 with 1 Axes>"
      ]
     },
     "metadata": {
      "needs_background": "light"
     },
     "output_type": "display_data"
    },
    {
     "name": "stdout",
     "output_type": "stream",
     "text": [
      "Number Of Data without Outliers:31\n",
      "\n",
      "(array([], dtype=int64),)\n",
      "(array([ 0,  1,  2,  3,  4,  5,  6,  7,  8,  9, 10, 11, 12, 13, 14, 15, 16,\n",
      "       17, 18, 19, 20, 21, 22, 23, 24, 25, 26, 27, 28, 29, 30],\n",
      "      dtype=int64),)\n",
      "\n",
      "Number Of Data with Outliers:0\n",
      "\n"
     ]
    }
   ],
   "source": [
    "sns.boxplot(x=df.Average_Price_in_USD)\n",
    "plt.title('Average_Price_in_USD')\n",
    "plt.show();\n",
    "#The boxplot shows Quartile1, Quartile 2(median),Quartile 3 and Quartile 4 .It also shows No outliers\n",
    "print(f\"Number Of Data without Outliers:{len(df['Average_Price_in_USD'])}\\n\")\n",
    "\n",
    "#Finding Outliers:\n",
    "Q1 = df['Average_Price_in_USD'].quantile(.25)\n",
    "Q2 = df['Average_Price_in_USD'].quantile(.50)\n",
    "Q3 = df['Average_Price_in_USD'].quantile(.75)\n",
    "IQR = Q3 - Q1\n",
    "\n",
    "upper = np.where(df['Average_Price_in_USD']>=(Q3 + 1.5 * IQR))\n",
    "lower = np.where(df['Average_Price_in_USD']<=(Q1 + 1.5 * IQR))\n",
    "\n",
    "print(upper)\n",
    "print(lower)\n",
    "\n",
    "#Removing Outliers Form the Data\n",
    "df.drop(upper[0],inplace = True)\n",
    "df.drop(lower[0], inplace = True)\n",
    "\n",
    "print(f\"\\nNumber Of Data with Outliers:{len(df['Average_Price_in_USD'])}\\n\")\n",
    "\n",
    "#Skewness is Positive since the Median < Mean and it Median is inclined towards the left"
   ]
  },
  {
   "cell_type": "code",
   "execution_count": 41,
   "id": "5d7eedc4-2117-45d6-a6ca-032a3c2ca14c",
   "metadata": {},
   "outputs": [],
   "source": [
    "new_df = pd.read_csv('Data.csv')"
   ]
  },
  {
   "cell_type": "code",
   "execution_count": 42,
   "id": "9490b7f9-7cce-495b-9dd6-05d498e20749",
   "metadata": {},
   "outputs": [
    {
     "data": {
      "text/plain": [
       "<AxesSubplot:>"
      ]
     },
     "execution_count": 42,
     "metadata": {},
     "output_type": "execute_result"
    },
    {
     "data": {
      "image/png": "[encoded data removed]",
      "text/plain": [
       "<Figure size 432x288 with 1 Axes>"
      ]
     },
     "metadata": {
      "needs_background": "light"
     },
     "output_type": "display_data"
    }
   ],
   "source": [
    "new_df['Average_Price_in_USD'].hist()\n",
    "#In the Histogram the X-Axis holds the Average Price values and the Y-Axis holds the Frequency Count"
   ]
  },
  {
   "cell_type": "code",
   "execution_count": 43,
   "id": "69eb3539-cedc-4b1c-8ac6-410349296339",
   "metadata": {},
   "outputs": [
    {
     "data": {
      "text/plain": [
       "array([0.17094918])"
      ]
     },
     "execution_count": 43,
     "metadata": {},
     "output_type": "execute_result"
    }
   ],
   "source": [
    "from scipy import stats\n",
    "L2 = new_df[['Average_Price_in_USD']]\n",
    "stats.skew(L2)"
   ]
  },
  {
   "cell_type": "code",
   "execution_count": 44,
   "id": "9f3c2c3a-ec5e-41b6-8076-f73a40318c04",
   "metadata": {},
   "outputs": [
    {
     "data": {
      "image/png": "[encoded data removed]",
      "text/plain": [
       "<Figure size 432x288 with 1 Axes>"
      ]
     },
     "metadata": {
      "needs_background": "light"
     },
     "output_type": "display_data"
    }
   ],
   "source": [
    "sns.scatterplot(x=\"Average_Price_in_USD\",y=\"Year\",data=new_df)\n",
    "plt.show()\n",
    "#Scatter plot is a Right linear relation between the Average Price and Year Variables and the strength of this Relation is Strong\n",
    "#Skewness - 0.17094918"
   ]
  },
  {
   "cell_type": "code",
   "execution_count": 46,
   "id": "47663b72-8a39-45ab-8f53-8729f1e38e4f",
   "metadata": {},
   "outputs": [
    {
     "data": {
      "text/plain": [
       "19.013349483634446"
      ]
     },
     "execution_count": 46,
     "metadata": {},
     "output_type": "execute_result"
    }
   ],
   "source": [
    "#Coefficient of variance\n",
    "data = [0.083666667,0.086666667,0.088083333,0.091583333,0.092,0.093583333,0.094166667,0.094333333,0.086833333,0.086333333,0.08725,0.092333333,0.091083333,0.092833333,0.094333333,0.1,0.112333333,0.116666667,0.123333333,0.127166667,0.127666667,0.12975,0.129583333,0.132166667,0.137083333,0.138083333,0.135166667,0.13775,0.13625,0.136333333,0.135333333]\n",
    "cv = lambda x: np.std(x, ddof=1) / np.mean(x) * 100\n",
    "\n",
    "cv(data)"
   ]
  },
  {
   "cell_type": "code",
   "execution_count": 50,
   "id": "ca5b2aed-c939-4cd3-8317-ae22da9ad905",
   "metadata": {},
   "outputs": [
    {
     "name": "stdout",
     "output_type": "stream",
     "text": [
      "The Pearson Correlation Coefficient is 0.9331187694727395  with a P-value of P = 2.054299951877168e-14\n"
     ]
    }
   ],
   "source": [
    "# Calculate pearson coefficient and p-value\n",
    "pearson_coef, p_value = stats.pearsonr(new_df['Average_Price_in_USD'], new_df['Year'])\n",
    "print(\"The Pearson Correlation Coefficient is\", pearson_coef, \" with a P-value of P =\", p_value)\n",
    "\n",
    "#Since we have the 'r' value closer to +1, there is a stronger positive relationship between Average_Price_in_USD and Year"
   ]
  },
  {
   "cell_type": "code",
   "execution_count": null,
   "id": "229d7b9f-71ee-4726-89f5-88d38649e782",
   "metadata": {},
   "outputs": [],
   "source": []
  }
 ],
 "metadata": {
  "kernelspec": {
   "display_name": "Python 3 (ipykernel)",
   "language": "python",
   "name": "python3"
  },
  "language_info": {
   "codemirror_mode": {
    "name": "ipython",
    "version": 3
   },
   "file_extension": ".py",
   "mimetype": "text/x-python",
   "name": "python",
   "nbconvert_exporter": "python",
   "pygments_lexer": "ipython3",
   "version": "3.9.7"
  }
 },
 "nbformat": 4,
 "nbformat_minor": 5
}
